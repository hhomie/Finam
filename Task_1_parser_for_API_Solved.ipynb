{
 "cells": [
  {
   "cell_type": "code",
   "execution_count": 20,
   "id": "c2cdfcd9-b2b3-429a-ade5-9117b45e5151",
   "metadata": {},
   "outputs": [],
   "source": [
    "import requests\n",
    "import json\n",
    "import pandas as pd"
   ]
  },
  {
   "cell_type": "markdown",
   "id": "ea86546d-7519-4cbb-bfe9-338dbb27fc89",
   "metadata": {},
   "source": [
    "#### You need to research data from Itunes API of TOP paid applications in Russia for next tasks:\n",
    "- define the model of data by spliting them to main data - some kind of daily rate of definite market research and guides which could present additional attributes of main data with relation's information for storing into DB\n",
    "- make presentation of which tool you choose for scheduled ETL process into DB\n",
    "\n"
   ]
  },
  {
   "cell_type": "markdown",
   "id": "fb0e4d6c-ee42-4bb7-9e92-69056d7cc1d2",
   "metadata": {},
   "source": [
    "### Loading data"
   ]
  },
  {
   "cell_type": "code",
   "execution_count": 21,
   "id": "0ffc4821-1e7d-4d01-b60b-b73981908b0c",
   "metadata": {},
   "outputs": [],
   "source": [
    "url = 'https://rss.applemarketingtools.com/api/v2/ru/apps/top-paid/100/apps.json'"
   ]
  },
  {
   "cell_type": "code",
   "execution_count": 34,
   "id": "b074c65e-7c25-4d21-aec2-1965c7c33d02",
   "metadata": {},
   "outputs": [
    {
     "data": {
      "text/plain": [
       "200"
      ]
     },
     "execution_count": 34,
     "metadata": {},
     "output_type": "execute_result"
    }
   ],
   "source": [
    "response = requests.get(url)\n",
    "response.status_code"
   ]
  },
  {
   "attachments": {},
   "cell_type": "markdown",
   "id": "fa96f05b",
   "metadata": {},
   "source": [
    "Носителем основных сущнестей является массив results\n",
    "В него входят: \n",
    "    artistName - имя автора приложения\n",
    "    id - айди, которое связывает автора, а также всю информацию о его приложении\n",
    "    name - название приложения\n",
    "    releaseDate - дата выхода приложения в релиз\n",
    "    kind - в каком разделе находится эта программа\n",
    "    artworkUrl100 - картинка приложения\n",
    "    genres - массив с жанрами (стилями, категориями), к которым можно отнести приложение\n",
    "        genreId - айди категории\n",
    "        name - название\n",
    "        url - ссылка на весь контент для этой категории\n",
    "    url - ссылка на приложение\n",
    "\n",
    "Если мы хотим положить это в нашу бд, то мы должно правильно разнести по сущностям эти атрибуты, произвести нормализацию\n",
    "\n",
    "Предлагаю создать несколько таблиц:\n",
    "    1) Таблица с авторами приложений\n",
    "    2) Таблица с информацией о приложении\n",
    "    3) Таблица с информацией о жанрах\n",
    "    4) Таблица, которая будет связывать таблицу 2 и 3\n",
    "\n",
    "В таблице 1 можно создать следующие атрибуты:\n",
    "    id - уникальный айди автора\n",
    "    name - имя автора\n",
    "    name_l - имя автора на латиницу\n",
    "    Можем хранить дополнительную информацию об авторе, например:\n",
    "    website (желательно создать отдельный справочник для сайтов и хранить тут только ключ), \n",
    "    email (желательно создать отдельный справочник для стран и хранить тут только ключ), \n",
    "    country (желательно создать отдельный справочник для стран и хранить тут только ключ), created_at (дата создания автора), updated_at (дата последнего обновления автора)\n",
    "    company - название студии, к которой принадлежит автор, тоже отдельный справочник тут не помешает, а тут будем хранить просто ключ\n",
    "\n",
    "В таблице 2 необходимо хранить информацию об приложении\n",
    "    app_id - уникальный айди приложения\n",
    "    artist_id - ссылка на таблицу с авторами, тут мы храним ключ на поле id из первой таблицы\n",
    "    app_name - название приложения\n",
    "    app_name_l - название приложения на латинице\n",
    "    release_date - дата выхода приложения (возможно, будет лучше тоже вынести в отдельный справочник, где будет храниться название, айди, а также даты с и по, так как приложение может быть на какое-то время удалено, а потом опять восстановленно, если нам это важно, то отдельный справочник тут будет нужен)\n",
    "    url - ссылка на страницу в appstore этого приложения\n",
    "    price - хотя этого атрибута не было в json, но как вариант это важная информация для нашей сущности\n",
    "    size - тут может быть опять же ссылка на таблицу, где мы храним размеры приложений, так как они могут изменяться, или если мы настроим это иначе, то можем и тут хранить \n",
    "    downloads - кол-во скачиваний этого приложения\n",
    "    currency - ссылка на таблицу с валютами, в которой продается это приложение\n",
    "    pictures - ссылка на другую таблицу с картинками, или даже с json, смотря как мы храним картинки и где\n",
    "\n",
    "Таблица 3 будет содержать разные жанры\n",
    "    genre_id - айди жанра\n",
    "    genre_name - название жанра\n",
    "    genre_name_l - название жанра на латинице\n",
    "    А также другая информация, которую мы можем хранить по жанрам, например дата создания жанра, \n",
    "\n",
    "Таблица 4 будет \"посредником\" между таблице приложений и жанрами. У нас будет связть м:м\n",
    "    app_id - айди приложения\n",
    "    genre_id - айди жанра\n",
    "\n",
    "\n",
    "В качестве оркестратора можно использовать Apache Airflow. Со временм наша бд будет стремительно расти, а эта технология позволяет легко масштабировать процессы ETL, можем загружать данные из API, других бд, источников, чтобы наполнить наше хранилище. Также Airflow имеет достаточно хорошую систему мониторинга\n",
    "\n"
   ]
  }
 ],
 "metadata": {
  "kernelspec": {
   "display_name": "Python 3 (ipykernel)",
   "language": "python",
   "name": "python3"
  },
  "language_info": {
   "codemirror_mode": {
    "name": "ipython",
    "version": 3
   },
   "file_extension": ".py",
   "mimetype": "text/x-python",
   "name": "python",
   "nbconvert_exporter": "python",
   "pygments_lexer": "ipython3",
   "version": "3.9.13"
  }
 },
 "nbformat": 4,
 "nbformat_minor": 5
}
